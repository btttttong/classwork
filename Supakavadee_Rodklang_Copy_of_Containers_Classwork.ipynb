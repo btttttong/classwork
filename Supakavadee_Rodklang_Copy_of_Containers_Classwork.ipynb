{
  "nbformat": 4,
  "nbformat_minor": 0,
  "metadata": {
    "colab": {
      "provenance": [],
      "include_colab_link": true
    },
    "kernelspec": {
      "name": "python3",
      "display_name": "Python 3"
    }
  },
  "cells": [
    {
      "cell_type": "markdown",
      "metadata": {
        "id": "view-in-github",
        "colab_type": "text"
      },
      "source": [
        "<a href=\"https://colab.research.google.com/github/btttttong/classwork/blob/main/Supakavadee_Rodklang_Copy_of_Containers_Classwork.ipynb\" target=\"_parent\"><img src=\"https://colab.research.google.com/assets/colab-badge.svg\" alt=\"Open In Colab\"/></a>"
      ]
    },
    {
      "cell_type": "markdown",
      "metadata": {
        "id": "DYOU0c_axBIe"
      },
      "source": [
        "# Lists:\n",
        "\n",
        "1.  Write a Python program to sum all the items in a list."
      ]
    },
    {
      "cell_type": "code",
      "metadata": {
        "id": "CaWyG74jKdyQ",
        "colab": {
          "base_uri": "https://localhost:8080/"
        },
        "outputId": "359aa98a-8639-42d3-f2a5-b77b05073c89"
      },
      "source": [
        "numbers = [1,2,3,4,5,1,4,5]\n",
        "Sum = sum(numbers)\n",
        "print(Sum)"
      ],
      "execution_count": null,
      "outputs": [
        {
          "output_type": "stream",
          "name": "stdout",
          "text": [
            "25\n"
          ]
        }
      ]
    },
    {
      "cell_type": "markdown",
      "metadata": {
        "id": "0XhrUytVxM-c"
      },
      "source": [
        "2. Write a Python program to get the largest number from a list."
      ]
    },
    {
      "cell_type": "code",
      "metadata": {
        "id": "uvx-nKShxRCX",
        "colab": {
          "base_uri": "https://localhost:8080/"
        },
        "outputId": "b6d332d8-0275-49cb-8cc8-4bd674c73581"
      },
      "source": [
        "numbers = [1,2,3,4,5,1,4,5]\n",
        "print(\"Largest element is:\", max(numbers))"
      ],
      "execution_count": null,
      "outputs": [
        {
          "output_type": "stream",
          "name": "stdout",
          "text": [
            "Largest element is: 5\n"
          ]
        }
      ]
    },
    {
      "cell_type": "markdown",
      "metadata": {
        "id": "1qmG8HcRxRs5"
      },
      "source": [
        "3. Write a Python program to count the number of strings where the string length is 2 or more and the first and last character are same from a given list of strings.\n",
        "\n",
        "Sample List: `['abc', 'xyz', 'aba', '1221']`\n",
        "\n",
        "Expected Result : 2"
      ]
    },
    {
      "cell_type": "code",
      "metadata": {
        "id": "x1RirtgtxhL-",
        "colab": {
          "base_uri": "https://localhost:8080/"
        },
        "outputId": "5a17af34-3f63-41a4-eff7-6f1356904269"
      },
      "source": [
        "samplelist = ['abc', 'xyz', 'aba', '1221']\n",
        "count = 0\n",
        "for i in samplelist:\n",
        "  if i == i[::-1]:\n",
        "    count += 1\n",
        "print(count)"
      ],
      "execution_count": null,
      "outputs": [
        {
          "output_type": "stream",
          "name": "stdout",
          "text": [
            "2\n"
          ]
        }
      ]
    },
    {
      "cell_type": "markdown",
      "metadata": {
        "id": "5OfrnhOdxijI"
      },
      "source": [
        "4. Write a Python program to get a list, sorted in increasing order by the first element in each tuple from a given list of non-empty tuples. Hint: use `sorted()` function\n",
        "\n",
        "Sample List : `[(2, 5), (1, 2), (4, 4), (2, 3), (2, 1)]`\n",
        "\n",
        "Expected Result : `[(2, 1), (1, 2), (2, 3), (4, 4), (2, 5)]`"
      ]
    },
    {
      "cell_type": "code",
      "metadata": {
        "id": "iEM0xy-qxp0Y",
        "colab": {
          "base_uri": "https://localhost:8080/"
        },
        "outputId": "6c47496c-d2e3-4e94-9a6b-6c0cc65dd28a"
      },
      "source": [
        "Sample_List = [(2, 5), (1, 2), (4, 4), (2, 3), (2, 1)]\n",
        "sorted(Sample_List, key=lambda x: x[1])"
      ],
      "execution_count": null,
      "outputs": [
        {
          "output_type": "execute_result",
          "data": {
            "text/plain": [
              "[(2, 1), (1, 2), (2, 3), (4, 4), (2, 5)]"
            ]
          },
          "metadata": {},
          "execution_count": 3
        }
      ]
    },
    {
      "cell_type": "markdown",
      "metadata": {
        "id": "OhgRtYThx2jp"
      },
      "source": [
        "5. Write a Python program to check a list is empty or not"
      ]
    },
    {
      "cell_type": "code",
      "metadata": {
        "id": "s7R4m4Ebx3I4",
        "colab": {
          "base_uri": "https://localhost:8080/"
        },
        "outputId": "e3fc07ec-6a83-4545-c248-400aba5b2228"
      },
      "source": [
        "def is_empty_list(list1):\n",
        "  return not list1\n",
        "\n",
        "list1 = []\n",
        "list2 = [1, 2, 3]\n",
        "\n",
        "print(is_empty_list(list1))\n",
        "print(is_empty_list(list2))"
      ],
      "execution_count": 21,
      "outputs": [
        {
          "output_type": "stream",
          "name": "stdout",
          "text": [
            "True\n",
            "False\n"
          ]
        }
      ]
    },
    {
      "cell_type": "markdown",
      "metadata": {
        "id": "wKLlvWVLx3iv"
      },
      "source": [
        "6. Write a Python program to remove duplicates from a list."
      ]
    },
    {
      "cell_type": "code",
      "metadata": {
        "id": "zZE68fhix66z",
        "colab": {
          "base_uri": "https://localhost:8080/"
        },
        "outputId": "738e8d04-68e7-44f6-b339-d4e1b133442d"
      },
      "source": [
        "def remove_duplicates(list1):\n",
        "  list1 = set(list1)\n",
        "  return list(list1)\n",
        "\n",
        "list1 = [1, 2, 3, 1, 2, 3]\n",
        "list2 = remove_duplicates(list1)\n",
        "\n",
        "print(list2)"
      ],
      "execution_count": null,
      "outputs": [
        {
          "output_type": "stream",
          "name": "stdout",
          "text": [
            "[1, 2, 3]\n"
          ]
        }
      ]
    },
    {
      "cell_type": "markdown",
      "metadata": {
        "id": "V2FZKkrayIFl"
      },
      "source": [
        "7. Write a Python program to clone or copy a list."
      ]
    },
    {
      "cell_type": "code",
      "metadata": {
        "id": "kLGXedR7yHmd",
        "colab": {
          "base_uri": "https://localhost:8080/"
        },
        "outputId": "7e6ce3e8-44d8-402c-97e2-dc76a31e30a1"
      },
      "source": [
        "def clone_list(list1):\n",
        "  return list1[:]\n",
        "\n",
        "list1 = [1, 2, 3]\n",
        "list2 = clone_list(list1)\n",
        "\n",
        "print(list2)"
      ],
      "execution_count": 22,
      "outputs": [
        {
          "output_type": "stream",
          "name": "stdout",
          "text": [
            "[1, 2, 3]\n"
          ]
        }
      ]
    },
    {
      "cell_type": "markdown",
      "metadata": {
        "id": "enJAdd9PF3CV"
      },
      "source": [
        "PS: in spare time read this article about mutable and immutable objects https://www.freecodecamp.org/news/mutable-vs-immutable-objects-python/   \n",
        "(note that the articale is wrong about dict keys: they can be mutable, but they should be hashable)"
      ]
    },
    {
      "cell_type": "markdown",
      "metadata": {
        "id": "RhvioUlwyTb_"
      },
      "source": [
        "# Sets:"
      ]
    },
    {
      "cell_type": "markdown",
      "metadata": {
        "id": "-Ow65I9tyebr"
      },
      "source": [
        "8. Write a Python program to create a set."
      ]
    },
    {
      "cell_type": "code",
      "metadata": {
        "id": "BDudRNevyVZH"
      },
      "source": [
        "# Create a set using the set() function\n",
        "my_set = set([1, 2, 3, 4, 5])\n",
        "\n",
        "# Create a set using curly braces\n",
        "my_set = {1, 2, 3, 4, 5}\n",
        "\n",
        "# Create an empty set\n",
        "empty_set = set()"
      ],
      "execution_count": null,
      "outputs": []
    },
    {
      "cell_type": "markdown",
      "metadata": {
        "id": "dYc2ZYcvyfWH"
      },
      "source": [
        "9. Write a Python program to iterate over a set."
      ]
    },
    {
      "cell_type": "code",
      "metadata": {
        "id": "BYpaXL_1ynH0",
        "colab": {
          "base_uri": "https://localhost:8080/"
        },
        "outputId": "2a04f9f0-c8b2-48e0-9433-96782c21b076"
      },
      "source": [
        "my_set = {\"apple\", \"banana\", \"cherry\"}\n",
        "\n",
        "for i in my_set:\n",
        "    print(i)"
      ],
      "execution_count": null,
      "outputs": [
        {
          "output_type": "stream",
          "name": "stdout",
          "text": [
            "banana\n",
            "cherry\n",
            "apple\n"
          ]
        }
      ]
    },
    {
      "cell_type": "markdown",
      "metadata": {
        "id": "0bLo9Hlw0Xs1"
      },
      "source": [
        "10. Write a Python program to add element in a set"
      ]
    },
    {
      "cell_type": "code",
      "metadata": {
        "id": "QX8d_4V8zEQ1",
        "colab": {
          "base_uri": "https://localhost:8080/"
        },
        "outputId": "f368dd57-42c2-45a0-bd26-29692bf4a30f"
      },
      "source": [
        "# Create a set\n",
        "my_set = {\"apple\", \"banana\", \"cherry\"}\n",
        "\n",
        "my_set.add(\"orange\")\n",
        "\n",
        "print(my_set)"
      ],
      "execution_count": null,
      "outputs": [
        {
          "output_type": "stream",
          "name": "stdout",
          "text": [
            "{'banana', 'cherry', 'orange', 'apple'}\n"
          ]
        }
      ]
    },
    {
      "cell_type": "markdown",
      "metadata": {
        "id": "LeKYtJfT0pJo"
      },
      "source": [
        "11. Write a Python program to create an intersection of two sets."
      ]
    },
    {
      "cell_type": "code",
      "metadata": {
        "id": "kPTTmxZS0Wyw",
        "colab": {
          "base_uri": "https://localhost:8080/"
        },
        "outputId": "c2e9524c-772c-4680-b094-7a76bb6ee21c"
      },
      "source": [
        "my_set = {\"apple\", \"banana\", \"cherry\"}\n",
        "my_set2 = {\"banana\", \"cherry\", \"orange\"}\n",
        "\n",
        "intersection = my_set.intersection(my_set2)\n",
        "\n",
        "print(intersection)"
      ],
      "execution_count": 23,
      "outputs": [
        {
          "output_type": "stream",
          "name": "stdout",
          "text": [
            "{'banana', 'cherry'}\n"
          ]
        }
      ]
    },
    {
      "cell_type": "markdown",
      "metadata": {
        "id": "1Qyc-Ljb0u2J"
      },
      "source": [
        "12. Write a Python program to check if a set is a subset of another set."
      ]
    },
    {
      "cell_type": "code",
      "metadata": {
        "id": "MAms6XK01mqp",
        "colab": {
          "base_uri": "https://localhost:8080/"
        },
        "outputId": "ed6e453d-1215-4787-ccec-da02637940e4"
      },
      "source": [
        "my_set = {\"apple\", \"banana\", \"cherry\"}\n",
        "my_set2 = {\"apple\", \"banana\", \"cherry\", \"orange\", \"papaya\", \"lime\"}\n",
        "\n",
        "print(my_set <= my_set2)\n",
        "print(my_set2 <= my_set)"
      ],
      "execution_count": 25,
      "outputs": [
        {
          "output_type": "stream",
          "name": "stdout",
          "text": [
            "True\n",
            "False\n"
          ]
        }
      ]
    },
    {
      "cell_type": "markdown",
      "metadata": {
        "id": "4xMtRrrx13O_"
      },
      "source": [
        "# Tuples\n",
        "\n",
        "13. Write a Python program to create a tuple."
      ]
    },
    {
      "cell_type": "code",
      "metadata": {
        "id": "f__K9m_o15Di"
      },
      "source": [
        "# Create a tuple of numbers\n",
        "my_tuple = (1, 2, 3, 4, 5)\n",
        "\n",
        "# Access elements of a tuple\n",
        "print(my_tuple[0]) # Output: 1\n",
        "print(my_tuple[-1]) # Output: 5\n",
        "\n",
        "# Iterate over a tuple\n",
        "for number in my_tuple:\n",
        "  print(number)\n",
        "\n",
        "# Unpack a tuple\n",
        "a, b, c = my_tuple\n",
        "print(a) # Output: 1\n",
        "print(b) # Output: 2\n",
        "print(c) # Output: 3\n",
        "\n",
        "# Create a tuple from a list\n",
        "my_list = [1, 2, 3, 4, 5]\n",
        "my_tuple = tuple(my_list)\n",
        "print(my_tuple) # Output: (1, 2, 3, 4, 5)"
      ],
      "execution_count": null,
      "outputs": []
    },
    {
      "cell_type": "markdown",
      "metadata": {
        "id": "OobVhy_Q2L2h"
      },
      "source": [
        "14. Write a Python program to unpack a tuple with 3 elements in several variables"
      ]
    },
    {
      "cell_type": "code",
      "metadata": {
        "id": "BFYlgHBm2SxR"
      },
      "source": [],
      "execution_count": null,
      "outputs": []
    },
    {
      "cell_type": "markdown",
      "metadata": {
        "id": "vcc3hiL12UBU"
      },
      "source": [
        "15. Write a Python program to add an item in a tuple."
      ]
    },
    {
      "cell_type": "code",
      "metadata": {
        "id": "r_QVenwr2TUi"
      },
      "source": [],
      "execution_count": null,
      "outputs": []
    },
    {
      "cell_type": "markdown",
      "metadata": {
        "id": "87uFMguM2jQb"
      },
      "source": [
        "16. Write a Python program to check whether an element exists within a tuple"
      ]
    },
    {
      "cell_type": "code",
      "metadata": {
        "id": "xF4vVnPL2tia"
      },
      "source": [],
      "execution_count": null,
      "outputs": []
    },
    {
      "cell_type": "markdown",
      "metadata": {
        "id": "EGe_03h12uQX"
      },
      "source": [
        "17. Write a Python program to convert a list to a tuple"
      ]
    },
    {
      "cell_type": "code",
      "metadata": {
        "id": "ZOOCs87d2xWk"
      },
      "source": [],
      "execution_count": null,
      "outputs": []
    },
    {
      "cell_type": "markdown",
      "metadata": {
        "id": "BBeL2Oxr2yBh"
      },
      "source": [
        "18. Write a Python program to reverse a tuple"
      ]
    },
    {
      "cell_type": "code",
      "metadata": {
        "id": "Cv_khFly3Qir"
      },
      "source": [],
      "execution_count": null,
      "outputs": []
    },
    {
      "cell_type": "markdown",
      "metadata": {
        "id": "UDlcyEEx3RJp"
      },
      "source": [
        "\n",
        "\n",
        "19. Write a Python program to change first element in a tuple"
      ]
    },
    {
      "cell_type": "code",
      "metadata": {
        "id": "McLWrs-w3zpL"
      },
      "source": [],
      "execution_count": null,
      "outputs": []
    },
    {
      "cell_type": "markdown",
      "metadata": {
        "id": "cWXrU0Fs4IHY"
      },
      "source": [
        "# Dicts\n",
        "\n",
        "20. Write a Python script to add a key to a dictionary\n",
        "\n",
        "```\n",
        "Sample Dictionary : {0: 10, 1: 20}\n",
        "Expected Result : {0: 10, 1: 20, 2: 30}\n",
        "```"
      ]
    },
    {
      "cell_type": "code",
      "metadata": {
        "id": "87vq3Pgy4UsZ",
        "colab": {
          "base_uri": "https://localhost:8080/"
        },
        "outputId": "dba216d2-031d-436e-ce9b-2402a4d96404"
      },
      "source": [
        "dict = {0: 10, 1: 20}\n",
        "i = 30\n",
        "if i not in dict:\n",
        "  dict[len(dict)] = i\n",
        "\n",
        "  print(dict)\n"
      ],
      "execution_count": null,
      "outputs": [
        {
          "output_type": "stream",
          "name": "stdout",
          "text": [
            "{0: 10, 1: 20, 2: 30}\n"
          ]
        }
      ]
    },
    {
      "cell_type": "markdown",
      "metadata": {
        "id": "3d1r1eZH4eC4"
      },
      "source": [
        "21. Сoncatenate following dictionaries to create a new one.\n",
        "\n",
        "```\n",
        "Sample Dictionary :\n",
        "dict1 = {1: 10, 2: 20}\n",
        "dict2 = {3: 30, 4: 40}\n",
        "dict3 = {5: 50, 6: 60}\n",
        "Expected Result : {1: 10, 2: 20, 3: 30, 4: 40, 5: 50, 6: 60}\n",
        "```\n",
        "\n"
      ]
    },
    {
      "cell_type": "code",
      "metadata": {
        "id": "D6LygfXG4tdP",
        "colab": {
          "base_uri": "https://localhost:8080/"
        },
        "outputId": "13513165-4284-4d00-ae33-1eb76d75d0db"
      },
      "source": [
        "dict1 = {0: 10, 1: 20}\n",
        "dict2 = {3: 30, 4: 40}\n",
        "dict3 = {5: 50, 6: 60}\n",
        "\n",
        "dict1.update(dict2)\n",
        "dict1.update(dict3)\n",
        "\n",
        "\n",
        "print(dict1)"
      ],
      "execution_count": 13,
      "outputs": [
        {
          "output_type": "stream",
          "name": "stdout",
          "text": [
            "{0: 10, 1: 20, 3: 30, 4: 40, 5: 50, 6: 60}\n"
          ]
        }
      ]
    },
    {
      "cell_type": "markdown",
      "metadata": {
        "id": "8mniVuSI4xsk"
      },
      "source": [
        "22. Write a Python script to check whether a given key already exists in a dictionary"
      ]
    },
    {
      "cell_type": "code",
      "metadata": {
        "id": "2WZYq3CK4z2i",
        "colab": {
          "base_uri": "https://localhost:8080/"
        },
        "outputId": "e586f989-a2d1-40a3-a005-df110995bbdd"
      },
      "source": [
        "dict1 = {0: 10, 1: 20}\n",
        "key = 1\n",
        "if key not in dict1:\n",
        "  print(key , 'is not in dict')\n",
        "else:\n",
        "  print(key , 'is already exists')"
      ],
      "execution_count": 16,
      "outputs": [
        {
          "output_type": "stream",
          "name": "stdout",
          "text": [
            "1 is already exists\n"
          ]
        }
      ]
    },
    {
      "cell_type": "markdown",
      "metadata": {
        "id": "iEje0kVB40VR"
      },
      "source": [
        "23. Print all keys in a dictionary using for loop"
      ]
    },
    {
      "cell_type": "code",
      "metadata": {
        "id": "IA4tJ2rZ5DqD",
        "colab": {
          "base_uri": "https://localhost:8080/"
        },
        "outputId": "f2aad8a7-ab75-41bd-d936-2e61a5ba6230"
      },
      "source": [
        "dict1 = {0: 10, 1: 20}\n",
        "for i in dict1:\n",
        "  print(i)"
      ],
      "execution_count": 17,
      "outputs": [
        {
          "output_type": "stream",
          "name": "stdout",
          "text": [
            "0\n",
            "1\n"
          ]
        }
      ]
    },
    {
      "cell_type": "markdown",
      "metadata": {
        "id": "Rq9WxUap5EK9"
      },
      "source": [
        "24. Print all values in a dictionary using for loop"
      ]
    },
    {
      "cell_type": "code",
      "metadata": {
        "id": "iXq2IevG5JnM",
        "colab": {
          "base_uri": "https://localhost:8080/"
        },
        "outputId": "c2577c6c-6b08-4716-93fb-23398c78bc04"
      },
      "source": [
        "dict1 = {0: 10, 1: 20}\n",
        "for i in dict1.values():\n",
        "  print(i)"
      ],
      "execution_count": 18,
      "outputs": [
        {
          "output_type": "stream",
          "name": "stdout",
          "text": [
            "10\n",
            "20\n"
          ]
        }
      ]
    },
    {
      "cell_type": "markdown",
      "metadata": {
        "id": "yvHQhpiQ5KC_"
      },
      "source": [
        "25. Write a Python program to remove a key from a dictionary."
      ]
    },
    {
      "cell_type": "code",
      "metadata": {
        "id": "OF5MJB9N5QFg",
        "colab": {
          "base_uri": "https://localhost:8080/"
        },
        "outputId": "95f1ed1f-3000-4766-d570-2f965104fd26"
      },
      "source": [
        "dict1 = {0: 10, 1: 20}\n",
        "key = 1\n",
        "dict1.pop(key)\n",
        "print(dict1)"
      ],
      "execution_count": 20,
      "outputs": [
        {
          "output_type": "stream",
          "name": "stdout",
          "text": [
            "{0: 10}\n"
          ]
        }
      ]
    },
    {
      "cell_type": "markdown",
      "metadata": {
        "id": "5dv-KmAX5Qmf"
      },
      "source": [
        "26. Write a Python program to map two lists into a dictionary.\n",
        "\n",
        "```\n",
        "Sample input:\n",
        "keys = ['red', 'green', 'blue']\n",
        "values = ['#FF0000', '#008000', '#0000FF']\n",
        "\n",
        "Sample output:\n",
        "{'red': '#FF0000', 'green': '#008000', 'blue': '#0000FF'}\n",
        "```"
      ]
    },
    {
      "cell_type": "code",
      "source": [
        "keys = ['red', 'green', 'blue']\n",
        "values = ['#FF0000', '#008000', '#0000FF']\n",
        "dictionary = {}\n",
        "for i in range(len(keys)):\n",
        "    dictionary[keys[i]] = values[i]\n",
        "print(dictionary)"
      ],
      "metadata": {
        "colab": {
          "base_uri": "https://localhost:8080/"
        },
        "id": "C6x6j62OToPW",
        "outputId": "84130f31-7106-4931-d4da-fb00d5ca641b"
      },
      "execution_count": 4,
      "outputs": [
        {
          "output_type": "stream",
          "name": "stdout",
          "text": [
            "{'red': '#FF0000', 'green': '#008000', 'blue': '#0000FF'}\n"
          ]
        }
      ]
    },
    {
      "cell_type": "markdown",
      "metadata": {
        "id": "cdP-dA2a6cJV"
      },
      "source": [
        "27. Fix this code:"
      ]
    },
    {
      "cell_type": "code",
      "metadata": {
        "colab": {
          "base_uri": "https://localhost:8080/",
          "height": 175
        },
        "id": "GkSfUAJH51jP",
        "outputId": "f5bef8cc-e2e3-4ae2-e337-9267c1e4fb82"
      },
      "source": [
        "{[1, 2, 3]: 'value'}"
      ],
      "execution_count": 11,
      "outputs": [
        {
          "output_type": "error",
          "ename": "TypeError",
          "evalue": "ignored",
          "traceback": [
            "\u001b[0;31m---------------------------------------------------------------------------\u001b[0m",
            "\u001b[0;31mTypeError\u001b[0m                                 Traceback (most recent call last)",
            "\u001b[0;32m<ipython-input-11-649a078d9d33>\u001b[0m in \u001b[0;36m<cell line: 1>\u001b[0;34m()\u001b[0m\n\u001b[0;32m----> 1\u001b[0;31m \u001b[0;34m{\u001b[0m\u001b[0;34m[\u001b[0m\u001b[0;36m1\u001b[0m\u001b[0;34m,\u001b[0m \u001b[0;36m2\u001b[0m\u001b[0;34m,\u001b[0m \u001b[0;36m3\u001b[0m\u001b[0;34m]\u001b[0m\u001b[0;34m:\u001b[0m \u001b[0;34m'value'\u001b[0m\u001b[0;34m}\u001b[0m\u001b[0;34m\u001b[0m\u001b[0;34m\u001b[0m\u001b[0m\n\u001b[0m",
            "\u001b[0;31mTypeError\u001b[0m: unhashable type: 'list'"
          ]
        }
      ]
    },
    {
      "cell_type": "code",
      "metadata": {
        "id": "D9ykn5tJ-3fq",
        "colab": {
          "base_uri": "https://localhost:8080/"
        },
        "outputId": "3a687c44-57e1-42c3-df26-ae33af8fc11d"
      },
      "source": [
        "{(1, 2, 3): 'value'}"
      ],
      "execution_count": 12,
      "outputs": [
        {
          "output_type": "execute_result",
          "data": {
            "text/plain": [
              "{(1, 2, 3): 'value'}"
            ]
          },
          "metadata": {},
          "execution_count": 12
        }
      ]
    },
    {
      "cell_type": "markdown",
      "metadata": {
        "id": "F6S5M7NnG0ed"
      },
      "source": [
        "PS: In spare time read this thread about hashable objects:\n",
        "https://stackoverflow.com/questions/14535730/what-does-hashable-mean-in-python"
      ]
    },
    {
      "cell_type": "markdown",
      "metadata": {
        "id": "k077_YqzHxZa"
      },
      "source": [
        "# Strings\n",
        "\n",
        "28. Write a Python program to count the number of characters (character frequency) in a string.\n",
        "\n",
        "```\n",
        "Sample String : google.com'\n",
        "Expected Result : {'g': 2, 'o': 3, 'l': 1, 'e': 1, '.': 1, 'c': 1, 'm': 1}\n",
        "```"
      ]
    },
    {
      "cell_type": "code",
      "metadata": {
        "id": "jg63JzmPH7JX"
      },
      "source": [],
      "execution_count": null,
      "outputs": []
    },
    {
      "cell_type": "markdown",
      "metadata": {
        "id": "P4o_Z-c_IHrp"
      },
      "source": [
        "29. Write a Python program to get a string from a given string where all occurrences of its first char have been changed to '$', except the first char itself\n",
        "\n",
        "```\n",
        "Sample String : 'restart'\n",
        "Expected Result : 'resta$t'\n",
        "```"
      ]
    },
    {
      "cell_type": "code",
      "source": [
        "inp = str(input('enter input: '))\n",
        "firstchar = inp[0]\n",
        "rest = inp[1:]\n",
        "if firstchar in rest:\n",
        "  final.append( number[i] )\n",
        "print(final)\n",
        "\n"
      ],
      "metadata": {
        "colab": {
          "base_uri": "https://localhost:8080/"
        },
        "id": "yTKIN-QYoOI4",
        "outputId": "c9b51060-a678-4f43-b9a7-fb5710df228e"
      },
      "execution_count": null,
      "outputs": [
        {
          "output_type": "stream",
          "name": "stdout",
          "text": [
            "enter input: restart\n",
            "r$\n"
          ]
        }
      ]
    },
    {
      "cell_type": "markdown",
      "metadata": {
        "id": "s1y6sukgIYFy"
      },
      "source": [
        "30. Write a Python program to remove the nth index character from a nonempty string."
      ]
    },
    {
      "cell_type": "code",
      "metadata": {
        "id": "qFyV3u9FIY6v",
        "colab": {
          "base_uri": "https://localhost:8080/"
        },
        "outputId": "a610a70d-bfa8-475b-ea1d-de2c6c443965"
      },
      "source": [
        "\"\"\"finallist = ''\n",
        "#inp = int(input('enter number: '))\n",
        "#txt = str(input('enter word: '))\n",
        "inp = 4\n",
        "txt = 'banana'\n",
        "txt = list(txt)\n",
        "for i in txt:\n",
        "  if i != inp:\n",
        "    print(txt[i])\n",
        "    #finallist += txt[i]\n",
        "print(finallist)\n",
        "\"\"\"\n",
        "\n",
        "txt = 'banana'\n",
        "inp = 4\n",
        "firstpart = txt[:inp-1]\n",
        "lastpart = txt[inp:]\n",
        "print(firstpart + lastpart)\n",
        "\n",
        "\n",
        "\n"
      ],
      "execution_count": null,
      "outputs": [
        {
          "output_type": "stream",
          "name": "stdout",
          "text": [
            "banna\n"
          ]
        }
      ]
    },
    {
      "cell_type": "markdown",
      "metadata": {
        "id": "Et4JRMuBIlHK"
      },
      "source": [
        "31. Write a Python program that accepts a comma separated sequence of words as input and prints the unique words in sorted form (alphanumerically).\n",
        "\n",
        "```\n",
        "Sample input: 'red, white, black, red, green, black'\n",
        "Expected output: 'black, green, red, white, red'\n",
        "```"
      ]
    },
    {
      "cell_type": "code",
      "metadata": {
        "id": "uVeH3IAPIW5c",
        "colab": {
          "base_uri": "https://localhost:8080/"
        },
        "outputId": "7b5311c0-1be4-45da-804d-bd1c72b2e8d7"
      },
      "source": [
        "input = 'red, white, black, red, green, black'\n",
        "inputlist = input.split(', ')\n",
        "sortlist = sorted(inputlist)\n",
        "finalans = []\n",
        "dup = []\n",
        "for x in range( len(sortlist) ):\n",
        "    if sortlist[x] not in finalans:\n",
        "        finalans.append( sortlist[x] )\n",
        "    else:\n",
        "        dup.append( sortlist[x] )\n",
        "finalans = ', '.join(finalans)\n",
        "print(finalans)"
      ],
      "execution_count": null,
      "outputs": [
        {
          "output_type": "stream",
          "name": "stdout",
          "text": [
            "black, green, red, white\n"
          ]
        }
      ]
    },
    {
      "cell_type": "markdown",
      "metadata": {
        "id": "lGoJ6JMnJGCk"
      },
      "source": [
        "32. Use `.replace()` method to clear the `poem` string of punctuation marks, reduce the string to lowercase, and count the number of different words in the `poem`."
      ]
    },
    {
      "cell_type": "code",
      "metadata": {
        "id": "UxTGSos6H6fO",
        "colab": {
          "base_uri": "https://localhost:8080/"
        },
        "outputId": "2e612e49-14f4-4159-f6c7-a48091773c5a"
      },
      "source": [
        "poem = \"\"\"5 little piges.\n",
        "This little pig went to market,\n",
        "This little pig stayed at home,\n",
        "This little pig had roast beef,\n",
        "And this little pig had none,\n",
        "This little pig said, \"Wee, wee, wee!\n",
        "I can't find my way home.\"\"\"\n",
        "\n",
        "inputlist = poem.split()\n",
        "print (inputlist)\n",
        "tostrinputlist = ' '.join(inputlist)\n",
        "print (tostrinputlist)\n",
        "tolower = tostrinputlist.lower()\n",
        "print (tolower)\n",
        "\n",
        "finalans = []\n",
        "dup = []\n",
        "for x"
      ],
      "execution_count": null,
      "outputs": [
        {
          "output_type": "stream",
          "name": "stdout",
          "text": [
            "['5', 'little', 'piges.', 'This', 'little', 'pig', 'went', 'to', 'market,', 'This', 'little', 'pig', 'stayed', 'at', 'home,', 'This', 'little', 'pig', 'had', 'roast', 'beef,', 'And', 'this', 'little', 'pig', 'had', 'none,', 'This', 'little', 'pig', 'said,', '\"Wee,', 'wee,', 'wee!', 'I', \"can't\", 'find', 'my', 'way', 'home.']\n",
            "5 little piges. This little pig went to market, This little pig stayed at home, This little pig had roast beef, And this little pig had none, This little pig said, \"Wee, wee, wee! I can't find my way home.\n",
            "5 little piges. this little pig went to market, this little pig stayed at home, this little pig had roast beef, and this little pig had none, this little pig said, \"wee, wee, wee! i can't find my way home.\n"
          ]
        }
      ]
    },
    {
      "cell_type": "markdown",
      "metadata": {
        "id": "YdNEmVccJeik"
      },
      "source": [
        "33. In Unix-systems a path to a file looks like this: `'/dir1/dir2/dir3/file_name'`. Given list of names, use `.join()` to compuse file path.\n",
        "\n",
        "```\n",
        "Example input: path_as_list = ['home', 'yellowduck', 'projects', 'Harbour.Space', 'main.py']\n",
        "Example output: '/home/yellowduck/projects/Harbour.Space/main.py'\n",
        "```"
      ]
    },
    {
      "cell_type": "code",
      "metadata": {
        "id": "g1TmTs8iKRWp"
      },
      "source": [],
      "execution_count": null,
      "outputs": []
    },
    {
      "cell_type": "markdown",
      "metadata": {
        "id": "dHT-hCWTLpKu"
      },
      "source": [
        "34. We have a transcript of the movie, but we're not sure about the names of the characters. Use string formatting to convert the text below so that we can easily change the names"
      ]
    },
    {
      "cell_type": "code",
      "metadata": {
        "colab": {
          "base_uri": "https://localhost:8080/",
          "height": 86
        },
        "id": "0Sg677tlM8IB",
        "outputId": "e68e3440-b211-44ce-f4dc-883f232654b8"
      },
      "source": [
        "\"\"\"Trinity: Is everything in place?\n",
        "Cypher: You weren't supposed to relieve me.\n",
        "Trinity: I know, but I want to take your shift.\n",
        "Cypher: You like watching him, don't you? You like watching him.\n",
        "Trinity: Don't be ridiculous.\n",
        "Cypher: We're going to kill him, do you understand that?\n",
        "Trinity: Morpheus believes he is the one.\n",
        "Cypher: Do you?\n",
        "Trinity: It doesn't matter what I believe.\n",
        "Cypher: You don't, do you?\n",
        "Trinity: Did you hear that?\n",
        "Cypher: Hear what?\n",
        "Trinity: Are you sure this line is clean?\n",
        "Cypher: Yeah, of course I'm sure.\n",
        "Trinity: I better go.\"\"\""
      ],
      "execution_count": null,
      "outputs": [
        {
          "output_type": "execute_result",
          "data": {
            "application/vnd.google.colaboratory.intrinsic+json": {
              "type": "string"
            },
            "text/plain": [
              "\"Trinity: Is everything in place?\\nCypher: You weren't supposed to relieve me.\\nTrinity: I know, but I want to take your shift.\\nCypher: 1You like watching him, don't you? You like watching him.\\nTrinity: Don't be ridiculous.\\nCypher: We're going to kill him, do you understand that?\\nTrinity: Morpheus believes he is the one.\\nCypher: Do you?\\nTrinity: It doesn't matter what I believe.\\nCypher: You don't, do you?\\nTrinity: Did you hear that?\\nCypher: Hear what?\\nTrinity: Are you sure this line is clean?\\nCypher: Yeah, of course I'm sure.\\nTrinity: I better go.\""
            ]
          },
          "metadata": {
            "tags": []
          },
          "execution_count": 37
        }
      ]
    },
    {
      "cell_type": "markdown",
      "metadata": {
        "id": "Fef7c2y5JtOK"
      },
      "source": [
        "PS: In spare time read about string formating in Python: https://realpython.com/python-f-strings/"
      ]
    },
    {
      "cell_type": "code",
      "metadata": {
        "id": "qSxEH43VJxkm",
        "colab": {
          "base_uri": "https://localhost:8080/",
          "height": 35
        },
        "outputId": "afe8fbe9-ef2f-4ed7-c6c3-90f50a5da852"
      },
      "source": [
        "# 1\n",
        "name = ['Pub']\n",
        "'Hello, %s. %s' % (name, name)"
      ],
      "execution_count": null,
      "outputs": [
        {
          "output_type": "execute_result",
          "data": {
            "application/vnd.google.colaboratory.intrinsic+json": {
              "type": "string"
            },
            "text/plain": [
              "\"Hello, ['Pub']. ['Pub']\""
            ]
          },
          "metadata": {},
          "execution_count": 7
        }
      ]
    },
    {
      "cell_type": "code",
      "metadata": {
        "colab": {
          "base_uri": "https://localhost:8080/",
          "height": 35
        },
        "id": "53V4wT5ng996",
        "outputId": "d362a360-f760-4138-e9c7-23a0e6fc31bb"
      },
      "source": [
        "# 2.1\n",
        "name_one = 'Way'\n",
        "name_two = 'K'\n",
        "'Hello, {1}. How are you, {0}?'.format(name_one, name_two)"
      ],
      "execution_count": null,
      "outputs": [
        {
          "output_type": "execute_result",
          "data": {
            "application/vnd.google.colaboratory.intrinsic+json": {
              "type": "string"
            },
            "text/plain": [
              "'Hello, K. How are you, Way?'"
            ]
          },
          "metadata": {},
          "execution_count": 14
        }
      ]
    },
    {
      "cell_type": "code",
      "metadata": {
        "colab": {
          "base_uri": "https://localhost:8080/",
          "height": 35
        },
        "id": "Fz-OD7dPhrEC",
        "outputId": "300379c1-ce36-4fab-b9ff-a6ab0e3e3eec"
      },
      "source": [
        "# 2.2\n",
        "name_one = 'Way'\n",
        "name_two = 'K'\n",
        "'Hello, {first_student}. How are you, {second_student}?'.format(\n",
        "    first_student=name_one, second_student=name_two)"
      ],
      "execution_count": null,
      "outputs": [
        {
          "output_type": "execute_result",
          "data": {
            "application/vnd.google.colaboratory.intrinsic+json": {
              "type": "string"
            },
            "text/plain": [
              "'Hello, Way. How are you, K?'"
            ]
          },
          "metadata": {},
          "execution_count": 16
        }
      ]
    },
    {
      "cell_type": "code",
      "metadata": {
        "colab": {
          "base_uri": "https://localhost:8080/",
          "height": 35
        },
        "id": "Fs95jOMAiVuJ",
        "outputId": "04fff404-d4b1-46d3-f716-9528b403ebf1"
      },
      "source": [
        "name_one = 42\n",
        "name_two = 100000.1415265\n",
        "'Hello, {first_student}. How are you, {second_student:.4f}?'.format(\n",
        "    first_student=name_one, second_student=name_two)"
      ],
      "execution_count": null,
      "outputs": [
        {
          "output_type": "execute_result",
          "data": {
            "application/vnd.google.colaboratory.intrinsic+json": {
              "type": "string"
            },
            "text/plain": [
              "'Hello, 42. How are you, 100000.1415?'"
            ]
          },
          "metadata": {},
          "execution_count": 27
        }
      ]
    },
    {
      "cell_type": "code",
      "metadata": {
        "colab": {
          "base_uri": "https://localhost:8080/",
          "height": 35
        },
        "id": "E3hzshBVimUt",
        "outputId": "985b4d10-ed9a-4bdf-f53a-1f4f2957eaee"
      },
      "source": [
        "name_one = 42\n",
        "name_two = 100000.1415265\n",
        "f'Hello, {name_one}. How are you, {name_two:.4f}?'"
      ],
      "execution_count": null,
      "outputs": [
        {
          "output_type": "execute_result",
          "data": {
            "application/vnd.google.colaboratory.intrinsic+json": {
              "type": "string"
            },
            "text/plain": [
              "'Hello, 42. How are you, 100000.1415?'"
            ]
          },
          "metadata": {},
          "execution_count": 28
        }
      ]
    },
    {
      "cell_type": "code",
      "metadata": {
        "id": "X-l86WMujw55"
      },
      "source": [
        "transcript = \"\"\"Trinity: Is everything in place?\n",
        "Cypher: You weren't supposed to relieve me.\n",
        "Trinity: I know, but I want to take your shift.\n",
        "Cypher: You like watching him, don't you? You like watching him.\n",
        "Trinity: Don't be ridiculous.\n",
        "Cypher: We're going to kill him, do you understand that?\n",
        "Trinity: Morpheus believes he is the one.\n",
        "Cypher: Do you?\n",
        "Trinity: It doesn't matter what I believe.\n",
        "Cypher: You don't, do you?\n",
        "Trinity: Did you hear that?\n",
        "Cypher: Hear what?\n",
        "Trinity: Are you sure this line is clean?\n",
        "Cypher: Yeah, of course I'm sure.\n",
        "Trinity: I better go.\"\"\"\n",
        "\n",
        "transcript"
      ],
      "execution_count": null,
      "outputs": []
    },
    {
      "cell_type": "code",
      "metadata": {
        "id": "r0FGEARjj2be"
      },
      "source": [
        "character_one = 'OnePunchMan'\n",
        "character_two = 'Batman'\n",
        "\n",
        "transcript = f\"\"\"{character_one}: Is everything in place?\n",
        "{character_two}: You weren't supposed to relieve me.\n",
        "{character_one}: I know, but I want to take your shift.\n",
        "{character_two}: You like watching him, don't you? You like watching him.\n",
        "{character_one}: Don't be ridiculous.\n",
        "{character_two}: We're going to kill him, do you understand that?\n",
        "{character_one}: Morpheus believes he is the one.\n",
        "{character_two}: Do you?\n",
        "{character_one}: It doesn't matter what I believe.\n",
        "{character_two}: You don't, do you?\n",
        "{character_one}: Did you hear that?\n",
        "{character_two}: Hear what?\n",
        "{character_one}: Are you sure this line is clean?\n",
        "{character_two}: Yeah, of course I'm sure.\n",
        "{character_one}: I better go.\"\"\""
      ],
      "execution_count": null,
      "outputs": []
    },
    {
      "cell_type": "code",
      "metadata": {
        "colab": {
          "base_uri": "https://localhost:8080/"
        },
        "id": "z96NpVWOkJpB",
        "outputId": "365a69cf-792d-4c51-a828-57290a6ef448"
      },
      "source": [
        "print(transcript)"
      ],
      "execution_count": null,
      "outputs": [
        {
          "output_type": "stream",
          "name": "stdout",
          "text": [
            "OnePunchMan: Is everything in place?\n",
            "Batman: You weren't supposed to relieve me.\n",
            "OnePunchMan: I know, but I want to take your shift.\n",
            "Batman: You like watching him, don't you? You like watching him.\n",
            "OnePunchMan: Don't be ridiculous.\n",
            "Batman: We're going to kill him, do you understand that?\n",
            "OnePunchMan: Morpheus believes he is the one.\n",
            "Batman: Do you?\n",
            "OnePunchMan: It doesn't matter what I believe.\n",
            "Batman: You don't, do you?\n",
            "OnePunchMan: Did you hear that?\n",
            "Batman: Hear what?\n",
            "OnePunchMan: Are you sure this line is clean?\n",
            "Batman: Yeah, of course I'm sure.\n",
            "OnePunchMan: I better go.\n"
          ]
        }
      ]
    },
    {
      "cell_type": "code",
      "metadata": {
        "id": "_tDKKMxDkNcn"
      },
      "source": [],
      "execution_count": null,
      "outputs": []
    }
  ]
}